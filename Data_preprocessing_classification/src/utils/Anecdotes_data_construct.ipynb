{
 "cells": [
  {
   "cell_type": "code",
   "execution_count": 1,
   "id": "f55e6603",
   "metadata": {},
   "outputs": [],
   "source": [
    "import urllib3\n",
    "from bs4 import BeautifulSoup\n",
    "from selenium import webdriver\n",
    "from selenium.webdriver.support.ui import WebDriverWait\n",
    "from selenium.webdriver.common.by import By\n",
    "from selenium.webdriver.support import expected_conditions as EC\n",
    "import time\n",
    "import pandas as pd\n",
    "import random\n",
    "from selenium.common.exceptions import NoSuchElementException\n",
    "from selenium.common.exceptions import WebDriverException\n",
    "from selenium.webdriver.chrome.options import Options\n",
    "from selenium.webdriver.common.keys import Keys\n"
   ]
  },
  {
   "cell_type": "code",
   "execution_count": 2,
   "id": "caf4ac9c",
   "metadata": {},
   "outputs": [],
   "source": [
    "jokes_dirty = []"
   ]
  },
  {
   "cell_type": "code",
   "execution_count": 3,
   "id": "4f2a8494",
   "metadata": {},
   "outputs": [],
   "source": [
    "\n",
    "# Russian jokes scraping example\n",
    "driver = webdriver.Chrome('/Users/michaelmiller/Downloads/chromedriver-4')\n",
    "link = \"https://www.anekdot.ru/release/anekdot/day/\"\n",
    "for i in range(3660):\n",
    "    driver.get(link)\n",
    "    driver.execute_script(\"window.scrollTo(0, 5000)\")\n",
    "        \n",
    "    for k in driver.find_elements_by_class_name(\"text\"):\n",
    "            \n",
    "        jokes_dirty.append(k.text)\n",
    "    time.sleep(1)\n",
    "    driver.find_element_by_link_text('<< Вчера').click()\n",
    "    driver.find_element_by_tag_name('body').send_keys(Keys.CONTROL + Keys.HOME)\n",
    "    link = driver.current_url\n",
    "driver.close()"
   ]
  },
  {
   "cell_type": "code",
   "execution_count": 10,
   "id": "790d9de9",
   "metadata": {
    "scrolled": false
   },
   "outputs": [],
   "source": [
    "jokes_data = pd.DataFrame(jokes_dirty)"
   ]
  },
  {
   "cell_type": "code",
   "execution_count": 15,
   "id": "bd74300f",
   "metadata": {},
   "outputs": [],
   "source": [
    "with open(r'jokes.txt', 'w') as fp:\n",
    "     fp.write('\\n'+'\\n'.join(jokes_dirty))"
   ]
  },
  {
   "cell_type": "code",
   "execution_count": 12,
   "id": "44e2f4c7",
   "metadata": {},
   "outputs": [],
   "source": [
    "jokes_data.to_csv('jokes.csv')"
   ]
  },
  {
   "cell_type": "code",
   "execution_count": 13,
   "id": "fd56fa29",
   "metadata": {},
   "outputs": [
    {
     "data": {
      "text/html": [
       "<div>\n",
       "<style scoped>\n",
       "    .dataframe tbody tr th:only-of-type {\n",
       "        vertical-align: middle;\n",
       "    }\n",
       "\n",
       "    .dataframe tbody tr th {\n",
       "        vertical-align: top;\n",
       "    }\n",
       "\n",
       "    .dataframe thead th {\n",
       "        text-align: right;\n",
       "    }\n",
       "</style>\n",
       "<table border=\"1\" class=\"dataframe\">\n",
       "  <thead>\n",
       "    <tr style=\"text-align: right;\">\n",
       "      <th></th>\n",
       "      <th>0</th>\n",
       "    </tr>\n",
       "  </thead>\n",
       "  <tbody>\n",
       "    <tr>\n",
       "      <th>0</th>\n",
       "      <td>Колобок - это сказка про взросление. Парень ух...</td>\n",
       "    </tr>\n",
       "    <tr>\n",
       "      <th>1</th>\n",
       "      <td>Нам всё-таки удалось распространить свою идеол...</td>\n",
       "    </tr>\n",
       "    <tr>\n",
       "      <th>2</th>\n",
       "      <td>Fоrbеs оценил состояние российских миллиардеро...</td>\n",
       "    </tr>\n",
       "    <tr>\n",
       "      <th>3</th>\n",
       "      <td>Есть свидетельство о рождении. Есть свидетельс...</td>\n",
       "    </tr>\n",
       "    <tr>\n",
       "      <th>4</th>\n",
       "      <td>Пожарные оперативно потушили здание налоговой,...</td>\n",
       "    </tr>\n",
       "    <tr>\n",
       "      <th>...</th>\n",
       "      <td>...</td>\n",
       "    </tr>\n",
       "    <tr>\n",
       "      <th>265744</th>\n",
       "      <td>Путин подходит к унитазу открывает крышку и го...</td>\n",
       "    </tr>\n",
       "    <tr>\n",
       "      <th>265745</th>\n",
       "      <td>Арестован фигурант дела о хищениях в системе Ж...</td>\n",
       "    </tr>\n",
       "    <tr>\n",
       "      <th>265746</th>\n",
       "      <td>Ремейк сказки \"Золушка\" на современном телевид...</td>\n",
       "    </tr>\n",
       "    <tr>\n",
       "      <th>265747</th>\n",
       "      <td>Встретились как то на дереве два дятла. Хотели...</td>\n",
       "    </tr>\n",
       "    <tr>\n",
       "      <th>265748</th>\n",
       "      <td>— Рабинович, у вас есть тысяча до зарплаты?\\n—...</td>\n",
       "    </tr>\n",
       "  </tbody>\n",
       "</table>\n",
       "<p>265749 rows × 1 columns</p>\n",
       "</div>"
      ],
      "text/plain": [
       "                                                        0\n",
       "0       Колобок - это сказка про взросление. Парень ух...\n",
       "1       Нам всё-таки удалось распространить свою идеол...\n",
       "2       Fоrbеs оценил состояние российских миллиардеро...\n",
       "3       Есть свидетельство о рождении. Есть свидетельс...\n",
       "4       Пожарные оперативно потушили здание налоговой,...\n",
       "...                                                   ...\n",
       "265744  Путин подходит к унитазу открывает крышку и го...\n",
       "265745  Арестован фигурант дела о хищениях в системе Ж...\n",
       "265746  Ремейк сказки \"Золушка\" на современном телевид...\n",
       "265747  Встретились как то на дереве два дятла. Хотели...\n",
       "265748  — Рабинович, у вас есть тысяча до зарплаты?\\n—...\n",
       "\n",
       "[265749 rows x 1 columns]"
      ]
     },
     "execution_count": 13,
     "metadata": {},
     "output_type": "execute_result"
    }
   ],
   "source": [
    "jokes_data"
   ]
  },
  {
   "cell_type": "code",
   "execution_count": null,
   "id": "310bca9f",
   "metadata": {},
   "outputs": [],
   "source": []
  }
 ],
 "metadata": {
  "kernelspec": {
   "display_name": "Python 3 (ipykernel)",
   "language": "python",
   "name": "python3"
  },
  "language_info": {
   "codemirror_mode": {
    "name": "ipython",
    "version": 3
   },
   "file_extension": ".py",
   "mimetype": "text/x-python",
   "name": "python",
   "nbconvert_exporter": "python",
   "pygments_lexer": "ipython3",
   "version": "3.8.8"
  }
 },
 "nbformat": 4,
 "nbformat_minor": 5
}
