{
 "cells": [
  {
   "cell_type": "code",
   "execution_count": 1,
   "id": "1676a129",
   "metadata": {
    "scrolled": true
   },
   "outputs": [
    {
     "name": "stderr",
     "output_type": "stream",
     "text": [
      "Warming up PyWSD (takes ~10 secs)... took 3.1047701835632324 secs.\n"
     ]
    }
   ],
   "source": [
    "import numpy as np\n",
    "import pandas as pd\n",
    "import nltk\n",
    "import random\n",
    "\n",
    "stopwords = nltk.corpus.stopwords.words('english')\n",
    "from pywsd.utils import lemmatize_sentence\n",
    "import re\n",
    "regex = re.compile('[^a-zA-Z ]')\n",
    "\n",
    "from nltk.stem import WordNetLemmatizer\n",
    "from nltk import pos_tag\n",
    "lemmatizer = WordNetLemmatizer()\n"
   ]
  },
  {
   "cell_type": "code",
   "execution_count": 2,
   "id": "fbee2ddf",
   "metadata": {},
   "outputs": [],
   "source": [
    "# functions for txt file of a text\n",
    "def load_dict(path):\n",
    "    slovarik = np.load(path, allow_pickle = True)\n",
    "    slovarik = slovarik.tolist()\n",
    "    return slovarik\n",
    "\n",
    "def read_data(title_path):\n",
    "    if(title_path[-1] == 't'):\n",
    "        with open(title_path, \"r\", encoding =\"utf8\") as current_file:\n",
    "            text = current_file.read()\n",
    "        return text\n",
    "    else:\n",
    "        data = pd.read_csv('../../../data_jokes_eng_new.csv')\n",
    "        data = data.reset_index()\n",
    "        data = data.dropna()\n",
    "        return data\n",
    "        \n",
    "def remove_stopwords(book_sw):\n",
    "    book_sw = ' '.join([word for word in book_sw.split() if word not in stopwords])\n",
    "    return book_sw\n",
    "def lemmatize_sents(subsample):\n",
    "    for i in range(len(subsample)):\n",
    "        subsample[i] = regex.sub(' ', subsample[i])\n",
    "        subsample[i] = lemmatize_sentence(subsample[i])\n",
    "    return subsample\n",
    "\n",
    "def lemmatized_to_coords(text,slovarik):\n",
    "    coords = []\n",
    "    for i in text:\n",
    "        temp = []\n",
    "        for j in i:\n",
    "            print(j)\n",
    "            try:\n",
    "                temp.append(slovarik[j])\n",
    "            except KeyError:\n",
    "                ok = True\n",
    "        coords.append(coords)\n",
    "    return coords"
   ]
  },
  {
   "cell_type": "code",
   "execution_count": 4,
   "id": "e2c8ee25",
   "metadata": {},
   "outputs": [],
   "source": [
    "#functions for anecdotes ( in english rn )\n",
    "def anecdote_reader(series,n_gramm):\n",
    "    res = []\n",
    "    for i in range(len(series)):\n",
    "        temp = []\n",
    "        for j in range(len(series[i].split())):\n",
    "            if j %(16*n_gramm) == 0:\n",
    "                temp.append(series[i].split()[j - 16*n_gramm:j])\n",
    "        res.append(temp)\n",
    "    return np.asarray(res,dtype=object)\n",
    "\n",
    "\n",
    "def anec_cleaner(raw_data,lemmatizer,language='english'):\n",
    "    \n",
    "    '''\n",
    "    \n",
    "    Turns a List (series,array e.t.c) of Raw Jokes to \n",
    "    a list of format ['lemmatized joke']\n",
    "    Only words recognied by positional tagger are added to the output\n",
    "    All of the resulting jokes are preprocesses not to include stop words from NLTK stopwords\n",
    "\n",
    "    Parameters:\n",
    "    lemmatizer - NLTK Lemmatizer for the language\n",
    "    raw_data - array-like data of strings with raw data\n",
    "    language - the language of the raw jokes\n",
    "    Output - cleaned list of lemmatized jokes\n",
    "\n",
    "    '''\n",
    "    from nltk.tokenize import word_tokenize\n",
    "    from nltk import pos_tag\n",
    "    stopwords = nltk.corpus.stopwords.words(language)\n",
    "    clean_data = []\n",
    "    for i in range(len(raw_data)):\n",
    "        raw_data[i] = regex.sub(' ', raw_data[i])\n",
    "        anec = ''\n",
    "        for token in word_tokenize(raw_data[i]):\n",
    "            tag = pos_tag([token])\n",
    "            tag = tag[0][1][0].lower()\n",
    "            tag = tag if tag in ['a', 'r', 'n', 'v'] else None\n",
    "            if tag and token not in stopwords:\n",
    "                anec +=' ' + lemmatizer.lemmatize(token,tag) + ' '\n",
    "            else: continue\n",
    "        clean_data.append(anec)\n",
    "    return clean_data\n",
    "\n",
    "\n",
    "def percentage_metric(data,dictionary,reverse = False): \n",
    "    '''\n",
    "    \n",
    "    Function to compute data consistency according to SVD Dictionary\n",
    "    Arguments:\n",
    "    data - lemmatized and cleaned jokes\n",
    "    dicitonary - your SVD dictionary\n",
    "    reverse - if set true, the items in the result will be of the vice-versa order\n",
    "    output - dictionary of the format {percentage_of_words_not_in_SVD: number_of_jokes}\n",
    "    \n",
    "    '''\n",
    "    absolute_dict = {}\n",
    "    relative_dict = {}\n",
    "    for i in range(len(data)):\n",
    "        \n",
    "        for token in data[i].split():\n",
    "            if(token not in dictionary.keys()):\n",
    "                if(token not in absolute_dict.keys()):\n",
    "                    absolute_dict[i] = 1\n",
    "                else: \n",
    "                    absolute_dict[i] += 1\n",
    "    for i in absolute_dict.keys():\n",
    "        if round(len(data[i].split())/absolute_dict[i],0) not in relative_dict.keys():\n",
    "            relative_dict[round(len(data[i].split())/absolute_dict[i],0)] =1\n",
    "        else: relative_dict[round(len(data[i].split())/absolute_dict[i],0)]+=1\n",
    "    if reverse:\n",
    "        res = sorted(dict((v,k) for k,v in relative_dict.items()).items(),reverse=True)\n",
    "        return res\n",
    "    else:\n",
    "        return relative_dict\n",
    "\n",
    "def keywords_visual(data,dictionary):\n",
    "        kew_dic = {}\n",
    "        for i in range(len(data)):\n",
    "            joke=''\n",
    "            for token in data[i].split():\n",
    "                if(token not in dictionary.keys()):\n",
    "                    joke+= ' KEYWORD ' \n",
    "                else: \n",
    "                    joke += ' '+token+' '\n",
    "            kew_dic[i] = joke\n",
    "        return kew_dic\n",
    "    \n",
    "def good_anecdotes_map(jokes,dic):\n",
    "    emb = []\n",
    "    for i in range(len(jokes)):\n",
    "        str_c = \"\"\n",
    "        for k in jokes[i].split():\n",
    "            raw = str(dic[k]).replace('array','').replace('[',' ').replace(']',' ').replace('\\n','')\n",
    "            str_c+=' ' + raw +' '\n",
    "        emb.append(str_c)\n",
    "    return emb\n",
    "    \n",
    "    \n",
    "def anecdotes_splits(data,coords_per_word):\n",
    "    coords_list = []\n",
    "    for i in range(len(data)):\n",
    "        joke = data[i].split()\n",
    "        temp_words = []\n",
    "        for j in range(len(joke)):\n",
    "            if j%coords_per_word == 0 and j!=0:\n",
    "                temp_words.append([float(x) for x in joke[j-coords_per_word:j]])\n",
    "        coords_list.append(temp_words)\n",
    "    return coords_list\n",
    "            \n",
    "def zero_padder(data,coords_per_word,length):\n",
    "    for i in range(len(data)):\n",
    "        if(len(data[i]) < length):\n",
    "            temp = data[i]\n",
    "            for k in range(length-len(data[i])):\n",
    "                temp.append([0]*coords_per_word)\n",
    "            data[i] = temp\n",
    "    return data"
   ]
  },
  {
   "cell_type": "code",
   "execution_count": 4,
   "id": "b25bf869",
   "metadata": {},
   "outputs": [],
   "source": [
    "slovarik = load_dict('english_newlit_SVD_dict.npy')\n",
    "df = pd.read_csv('/Users/michaelmiller/data_jokes_eng_new.csv')"
   ]
  },
  {
   "cell_type": "code",
   "execution_count": 5,
   "id": "87a21925",
   "metadata": {},
   "outputs": [],
   "source": [
    "df = df.dropna().reset_index()"
   ]
  },
  {
   "cell_type": "code",
   "execution_count": 6,
   "id": "b7dfeb61",
   "metadata": {},
   "outputs": [],
   "source": [
    "stats = percentage_metric(df['Joke'],slovarik,False)"
   ]
  },
  {
   "cell_type": "code",
   "execution_count": 34,
   "id": "417a7702",
   "metadata": {},
   "outputs": [],
   "source": [
    "data['Joke'] = jokes_lemm\n",
    "data.to_csv('../../../data_jokes_eng_new.csv')"
   ]
  },
  {
   "cell_type": "code",
   "execution_count": 21,
   "id": "f1266cfb",
   "metadata": {},
   "outputs": [],
   "source": [
    "df_stats = pd.DataFrame(dict_missing_words.keys())\n",
    "df_stats['counts'] = dict_missing_words.values()\n",
    "df_stats  =df_stats.sort_values(by=['counts'],ascending=False)\n",
    "df_stats.to_csv('stats.csv')"
   ]
  },
  {
   "cell_type": "code",
   "execution_count": null,
   "id": "7e575a17",
   "metadata": {
    "scrolled": true
   },
   "outputs": [],
   "source": [
    "anekdoty = []\n",
    "for i  in range(len(data['Jokes'])):\n",
    "    joke = \"\"\n",
    "    for token in data['Jokes'][i].split():\n",
    "        tag = pos_tag([token])\n",
    "        tag = tag[0][1][0].lower()\n",
    "        tag = tag if tag in ['a', 'r', 'n', 'v'] else None\n",
    "        \n",
    "        if tag:\n",
    "            \n",
    "            if(lemmatizer.lemmatize(token,tag) not in slovarik.keys()):\n",
    "                joke+=' KEYWORD '\n",
    "            else: joke +=' ' + token + ' '\n",
    "        else: continue\n",
    "    anekdoty.append(joke)"
   ]
  },
  {
   "cell_type": "code",
   "execution_count": 53,
   "id": "4cdf8ac8",
   "metadata": {},
   "outputs": [],
   "source": [
    "new ={}\n",
    "for i in distr.keys():\n",
    "    if round(len(data['Jokes'][i].split())/distr[i],2) not in new.keys():\n",
    "        new[round(len(data['Jokes'][i].split())/distr[i],2)] =1\n",
    "    else: new[round(len(data['Jokes'][i].split())/distr[i],2)]+=1"
   ]
  },
  {
   "cell_type": "code",
   "execution_count": 80,
   "id": "2e783823",
   "metadata": {
    "scrolled": false
   },
   "outputs": [
    {
     "data": {
      "image/png": "[encoded data removed]",
      "text/plain": [
       "<Figure size 842.4x595.44 with 1 Axes>"
      ]
     },
     "metadata": {
      "needs_background": "light"
     },
     "output_type": "display_data"
    }
   ],
   "source": [
    "import seaborn as sns\n",
    "from matplotlib import rcParams\n",
    "\n",
    "# figure size in inches\n",
    "rcParams['figure.figsize'] = 11.7,8.27\n",
    "sns.lineplot(x = stats.keys(),y = stats.values()).set(title='Percentage of not found words in English Jokes',xlabel='Percentage of not found words',ylabel='count');\n"
   ]
  },
  {
   "cell_type": "code",
   "execution_count": 5,
   "id": "1b7e3007",
   "metadata": {},
   "outputs": [],
   "source": [
    "lens = [len(i.split()) for i in data['Jokes']]"
   ]
  },
  {
   "cell_type": "code",
   "execution_count": 6,
   "id": "fb4e0100",
   "metadata": {},
   "outputs": [
    {
     "data": {
      "text/plain": [
       "18.05162805354468"
      ]
     },
     "execution_count": 6,
     "metadata": {},
     "output_type": "execute_result"
    }
   ],
   "source": [
    "dict_missing_words = {}\n",
    "for joke in data['Jokes']:\n",
    "    for token in joke.split():\n",
    "        tag = pos_tag([token])\n",
    "        tag = tag[0][1][0].lower()\n",
    "        tag = tag if tag in ['a', 'r', 'n', 'v'] else None\n",
    "        if tag:\n",
    "            if(lemmatizer.lemmatize(token,tag) not in slovarik.keys()):\n",
    "                if(lemmatizer.lemmatize(token,tag) not in dict_missing_words.keys()):\n",
    "                    print(token,lemmatizer.lemmatize(token,tag)) \n",
    "                    dict_missing_words[WordNetLemmatizer().lemmatize(token,tag)] = 1\n",
    "                else: \n",
    "                    print(token,lemmatizer.lemmatize(token,tag)) \n",
    "                    dict_missing_words[WordNetLemmatizer().lemmatize(token,tag)] += 1\n",
    "        else: continue"
   ]
  },
  {
   "cell_type": "code",
   "execution_count": 18,
   "id": "6fb11612",
   "metadata": {
    "scrolled": true
   },
   "outputs": [
    {
     "data": {
      "text/plain": [
       "6.612505572893446"
      ]
     },
     "execution_count": 18,
     "metadata": {},
     "output_type": "execute_result"
    }
   ],
   "source": [
    "np.mean([len(x.split()) for x in good_jokes])"
   ]
  },
  {
   "cell_type": "code",
   "execution_count": 8,
   "id": "8dbe31f7",
   "metadata": {},
   "outputs": [],
   "source": [
    "good_csv = pd.read_csv('good_jokes_eng.csv')"
   ]
  },
  {
   "cell_type": "code",
   "execution_count": 10,
   "id": "3f25d42f",
   "metadata": {},
   "outputs": [],
   "source": [
    "coords = anecdotes_splits(good_csv['coords'],16)\n",
    "coords = zero_padder(coords,16,10)\n",
    "good_csv['padded'] = coords"
   ]
  },
  {
   "cell_type": "code",
   "execution_count": 30,
   "id": "d96574b6",
   "metadata": {},
   "outputs": [
    {
     "data": {
      "text/plain": [
       "40633"
      ]
     },
     "execution_count": 30,
     "metadata": {},
     "output_type": "execute_result"
    }
   ],
   "source": [
    "sttt = []\n",
    "for i in good_csv['0']:\n",
    "    if len(i.split()) <=10:\n",
    "        sttt.append(i)\n",
    "len(sttt)"
   ]
  },
  {
   "cell_type": "code",
   "execution_count": 29,
   "id": "98d542e6",
   "metadata": {},
   "outputs": [
    {
     "data": {
      "text/plain": [
       "<AxesSubplot:>"
      ]
     },
     "execution_count": 29,
     "metadata": {},
     "output_type": "execute_result"
    },
    {
     "data": {
      "image/png": "[encoded data removed]",
      "text/plain": [
       "<Figure size 432x288 with 1 Axes>"
      ]
     },
     "metadata": {
      "needs_background": "light"
     },
     "output_type": "display_data"
    }
   ],
   "source": [
    "import seaborn as sns\n",
    "sns.lineplot(x=sttt.keys(),y=sttt.values())"
   ]
  },
  {
   "cell_type": "code",
   "execution_count": 9,
   "id": "626617a9",
   "metadata": {
    "scrolled": false
   },
   "outputs": [
    {
     "data": {
      "text/html": [
       "<div>\n",
       "<style scoped>\n",
       "    .dataframe tbody tr th:only-of-type {\n",
       "        vertical-align: middle;\n",
       "    }\n",
       "\n",
       "    .dataframe tbody tr th {\n",
       "        vertical-align: top;\n",
       "    }\n",
       "\n",
       "    .dataframe thead th {\n",
       "        text-align: right;\n",
       "    }\n",
       "</style>\n",
       "<table border=\"1\" class=\"dataframe\">\n",
       "  <thead>\n",
       "    <tr style=\"text-align: right;\">\n",
       "      <th></th>\n",
       "      <th>Unnamed: 0</th>\n",
       "      <th>0</th>\n",
       "      <th>coords</th>\n",
       "    </tr>\n",
       "  </thead>\n",
       "  <tbody>\n",
       "    <tr>\n",
       "      <th>0</th>\n",
       "      <td>0</td>\n",
       "      <td>narrate  documentary  narrator  hear  say  cu...</td>\n",
       "      <td>0.00154386  0.00014143 -0.00151886 -0.00130...</td>\n",
       "    </tr>\n",
       "    <tr>\n",
       "      <th>1</th>\n",
       "      <td>1</td>\n",
       "      <td>guy  walk  bar  guy  duck</td>\n",
       "      <td>-0.00417712 -0.00199492  0.00112089  0.00326...</td>\n",
       "    </tr>\n",
       "    <tr>\n",
       "      <th>2</th>\n",
       "      <td>2</td>\n",
       "      <td>musician  arrest  get</td>\n",
       "      <td>-0.00079136 -0.00211433 -0.00363464 -0.00109...</td>\n",
       "    </tr>\n",
       "    <tr>\n",
       "      <th>3</th>\n",
       "      <td>3</td>\n",
       "      <td>blonde  die  rake  leaf  fell  tree</td>\n",
       "      <td>-2.35707821e-04  1.38430493e-03 -2.29174319e...</td>\n",
       "    </tr>\n",
       "    <tr>\n",
       "      <th>4</th>\n",
       "      <td>4</td>\n",
       "      <td>son  get  tattoo  heart  spade  club  diamond...</td>\n",
       "      <td>-0.01986998  0.01277871 -0.06461708  0.06051...</td>\n",
       "    </tr>\n",
       "    <tr>\n",
       "      <th>...</th>\n",
       "      <td>...</td>\n",
       "      <td>...</td>\n",
       "      <td>...</td>\n",
       "    </tr>\n",
       "    <tr>\n",
       "      <th>44855</th>\n",
       "      <td>44855</td>\n",
       "      <td>man  trash  man  treasure  say  apparently  w...</td>\n",
       "      <td>2.24968059e-01 -7.50423715e-01 -2.79795515e...</td>\n",
       "    </tr>\n",
       "    <tr>\n",
       "      <th>44856</th>\n",
       "      <td>44856</td>\n",
       "      <td>realize  sex  life  movie  habit  stick  lean...</td>\n",
       "      <td>0.00126135  0.00177896 -0.00152884  0.00543...</td>\n",
       "    </tr>\n",
       "    <tr>\n",
       "      <th>44857</th>\n",
       "      <td>44857</td>\n",
       "      <td>confront  messy  baker  always  walk  eggshell</td>\n",
       "      <td>-0.00101516 -0.00116565 -0.00163726 -0.00121...</td>\n",
       "    </tr>\n",
       "    <tr>\n",
       "      <th>44858</th>\n",
       "      <td>44858</td>\n",
       "      <td>cop  say  cop  investigate  crime  scene  far...</td>\n",
       "      <td>-2.60445281e-03 -1.66429129e-03  1.77612649e...</td>\n",
       "    </tr>\n",
       "    <tr>\n",
       "      <th>44859</th>\n",
       "      <td>44859</td>\n",
       "      <td>bunny  say  bunny  sale  carrot  store</td>\n",
       "      <td>-0.00200838 -0.00554931  0.0062399   0.00393...</td>\n",
       "    </tr>\n",
       "  </tbody>\n",
       "</table>\n",
       "<p>44860 rows × 3 columns</p>\n",
       "</div>"
      ],
      "text/plain": [
       "       Unnamed: 0                                                  0  \\\n",
       "0               0   narrate  documentary  narrator  hear  say  cu...   \n",
       "1               1                         guy  walk  bar  guy  duck    \n",
       "2               2                             musician  arrest  get    \n",
       "3               3               blonde  die  rake  leaf  fell  tree    \n",
       "4               4   son  get  tattoo  heart  spade  club  diamond...   \n",
       "...           ...                                                ...   \n",
       "44855       44855   man  trash  man  treasure  say  apparently  w...   \n",
       "44856       44856   realize  sex  life  movie  habit  stick  lean...   \n",
       "44857       44857    confront  messy  baker  always  walk  eggshell    \n",
       "44858       44858   cop  say  cop  investigate  crime  scene  far...   \n",
       "44859       44859            bunny  say  bunny  sale  carrot  store    \n",
       "\n",
       "                                                  coords  \n",
       "0         0.00154386  0.00014143 -0.00151886 -0.00130...  \n",
       "1        -0.00417712 -0.00199492  0.00112089  0.00326...  \n",
       "2        -0.00079136 -0.00211433 -0.00363464 -0.00109...  \n",
       "3        -2.35707821e-04  1.38430493e-03 -2.29174319e...  \n",
       "4        -0.01986998  0.01277871 -0.06461708  0.06051...  \n",
       "...                                                  ...  \n",
       "44855     2.24968059e-01 -7.50423715e-01 -2.79795515e...  \n",
       "44856     0.00126135  0.00177896 -0.00152884  0.00543...  \n",
       "44857    -0.00101516 -0.00116565 -0.00163726 -0.00121...  \n",
       "44858    -2.60445281e-03 -1.66429129e-03  1.77612649e...  \n",
       "44859    -0.00200838 -0.00554931  0.0062399   0.00393...  \n",
       "\n",
       "[44860 rows x 3 columns]"
      ]
     },
     "execution_count": 9,
     "metadata": {},
     "output_type": "execute_result"
    }
   ],
   "source": [
    "good_csv"
   ]
  },
  {
   "cell_type": "code",
   "execution_count": 11,
   "id": "36b8afc3",
   "metadata": {},
   "outputs": [],
   "source": [
    "good_csv.to_csv('good_jokes_eng_padded')"
   ]
  },
  {
   "cell_type": "code",
   "execution_count": null,
   "id": "62f97cf9",
   "metadata": {},
   "outputs": [],
   "source": []
  }
 ],
 "metadata": {
  "kernelspec": {
   "display_name": "Python 3 (ipykernel)",
   "language": "python",
   "name": "python3"
  },
  "language_info": {
   "codemirror_mode": {
    "name": "ipython",
    "version": 3
   },
   "file_extension": ".py",
   "mimetype": "text/x-python",
   "name": "python",
   "nbconvert_exporter": "python",
   "pygments_lexer": "ipython3",
   "version": "3.8.8"
  }
 },
 "nbformat": 4,
 "nbformat_minor": 5
}
